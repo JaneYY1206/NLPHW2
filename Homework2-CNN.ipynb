{
 "cells": [
  {
   "cell_type": "code",
   "execution_count": 75,
   "metadata": {},
   "outputs": [],
   "source": [
    "import numpy as np\n",
    "import torch\n",
    "import torch.nn as nn\n",
    "import torch.nn.functional as F\n",
    "from torch.utils.data import Dataset\n",
    "from collections import Counter\n",
    "import pickle as pkl\n",
    "from collections import Counter\n",
    "import pandas as pd\n",
    "import random\n",
    "import matplotlib.pyplot as plt\n",
    "import itertools"
   ]
  },
  {
   "cell_type": "markdown",
   "metadata": {},
   "source": [
    "# Load Data"
   ]
  },
  {
   "cell_type": "markdown",
   "metadata": {},
   "source": [
    "## .tsv to list"
   ]
  },
  {
   "cell_type": "code",
   "execution_count": 101,
   "metadata": {},
   "outputs": [],
   "source": [
    "def load_data(filename):\n",
    "    file = pd.read_csv(filename, sep='\\t')\n",
    "    data = [[file.iloc[i,0],file.iloc[i,1]] for i in range(len(file.index))]\n",
    "    file['label'] = file['label'].replace(['entailment', 'contradiction', 'neutral'], [0,1,2])\n",
    "    labels = file['label']\n",
    "#     file['genre'] = file['genre'].replace(['telephone', 'fiction', 'slate', 'government', 'travel'], [0,1,2,3,4])\n",
    "#     genres = file['genre']\n",
    "    return data, labels"
   ]
  },
  {
   "cell_type": "code",
   "execution_count": 102,
   "metadata": {
    "scrolled": true
   },
   "outputs": [],
   "source": [
    "train_data, train_targets = load_data('snli_train.tsv')\n",
    "val_data, val_targets = load_data('snli_val.tsv')\n",
    "file = pd.read_csv('snli_train.tsv', sep='\\t')\n",
    "file = file[:10000]\n",
    "# file['label']= file['label'].replace(['entailment', 'contradiction', 'neutral'], [0,1,2])\n",
    "# file.iloc[5,0]"
   ]
  },
  {
   "cell_type": "code",
   "execution_count": 78,
   "metadata": {},
   "outputs": [],
   "source": [
    "train_data = train_data[:30000]\n",
    "train_targets = train_targets[:30000]"
   ]
  },
  {
   "cell_type": "code",
   "execution_count": 103,
   "metadata": {},
   "outputs": [
    {
     "data": {
      "text/plain": [
       "100000"
      ]
     },
     "execution_count": 103,
     "metadata": {},
     "output_type": "execute_result"
    }
   ],
   "source": [
    "len(train_data)\n"
   ]
  },
  {
   "cell_type": "markdown",
   "metadata": {},
   "source": [
    "## Tokenization"
   ]
  },
  {
   "cell_type": "code",
   "execution_count": 104,
   "metadata": {},
   "outputs": [],
   "source": [
    "train_data_tokens = [[train_data[i][j].split() for j in range(2)] for i in range(len(train_data))]"
   ]
  },
  {
   "cell_type": "code",
   "execution_count": 105,
   "metadata": {},
   "outputs": [],
   "source": [
    "val_data_tokens = [[val_data[i][j].split() for j in range(2)] for i in range(len(val_data))]"
   ]
  },
  {
   "cell_type": "code",
   "execution_count": 106,
   "metadata": {
    "scrolled": true
   },
   "outputs": [
    {
     "name": "stdout",
     "output_type": "stream",
     "text": [
      "Train dataset size is 100000\n",
      "Val dataset size is 1000\n"
     ]
    }
   ],
   "source": [
    "print (\"Train dataset size is {}\".format(len(train_data_tokens)))\n",
    "print (\"Val dataset size is {}\".format(len(val_data_tokens)))"
   ]
  },
  {
   "cell_type": "code",
   "execution_count": 107,
   "metadata": {},
   "outputs": [
    {
     "data": {
      "text/plain": [
       "[['A',\n",
       "  'young',\n",
       "  'girl',\n",
       "  'in',\n",
       "  'a',\n",
       "  'pink',\n",
       "  'shirt',\n",
       "  'sitting',\n",
       "  'on',\n",
       "  'a',\n",
       "  'dock',\n",
       "  'viewing',\n",
       "  'a',\n",
       "  'body',\n",
       "  'of',\n",
       "  'water',\n",
       "  '.'],\n",
       " ['A',\n",
       "  'young',\n",
       "  'girl',\n",
       "  'watching',\n",
       "  'the',\n",
       "  'sunset',\n",
       "  'over',\n",
       "  'the',\n",
       "  'water',\n",
       "  '.']]"
      ]
     },
     "execution_count": 107,
     "metadata": {},
     "output_type": "execute_result"
    }
   ],
   "source": [
    "train_data_tokens[0]"
   ]
  },
  {
   "cell_type": "markdown",
   "metadata": {},
   "source": [
    "## Fasttext Word Embedding"
   ]
  },
  {
   "cell_type": "code",
   "execution_count": 108,
   "metadata": {},
   "outputs": [],
   "source": [
    "with open('wiki-news-300d-1M.vec') as f:\n",
    "    lines = []\n",
    "    for i in range(50001):\n",
    "        line = f.readline()\n",
    "        v = line.split()\n",
    "        for j in range(1,len(v)):\n",
    "            v[j] = float(v[j])\n",
    "        lines.append(v)\n",
    "        \n",
    "lines.remove(lines[0])  "
   ]
  },
  {
   "cell_type": "code",
   "execution_count": 109,
   "metadata": {},
   "outputs": [],
   "source": [
    "word_dict = {}\n",
    "word_dict['PAD'] = 0\n",
    "word_dict['UNK'] = 1\n",
    "\n",
    "embed = [[0 for i in range(300)],[0 for i in range(300)]]\n",
    "\n",
    "for i in range(len(lines)):\n",
    "    word_dict['PAD'] = 0\n",
    "    word_dict['UNK'] = 1\n",
    "    word_dict[lines[i][0]] = i+2\n",
    "    embed.append(lines[i][1:])\n",
    "    \n",
    "embedding_matrix = np.matrix(embed)\n",
    "\n",
    "id2token = []\n",
    "for word in word_dict.keys():\n",
    "    id2token.append(word)\n",
    "token2id = word_dict"
   ]
  },
  {
   "cell_type": "code",
   "execution_count": 110,
   "metadata": {},
   "outputs": [
    {
     "name": "stdout",
     "output_type": "stream",
     "text": [
      "50002\n"
     ]
    }
   ],
   "source": [
    "print(len(id2token))"
   ]
  },
  {
   "cell_type": "code",
   "execution_count": 111,
   "metadata": {},
   "outputs": [
    {
     "name": "stdout",
     "output_type": "stream",
     "text": [
      "Token id 20436 ; token sufferers\n",
      "Token sufferers; token id 20436\n"
     ]
    }
   ],
   "source": [
    "random_token_id = random.randint(0, len(id2token)-1)\n",
    "random_token = id2token[random_token_id]\n",
    "\n",
    "print (\"Token id {} ; token {}\".format(random_token_id, id2token[random_token_id]))\n",
    "print (\"Token {}; token id {}\".format(random_token, token2id[random_token]))"
   ]
  },
  {
   "cell_type": "code",
   "execution_count": 112,
   "metadata": {},
   "outputs": [
    {
     "data": {
      "text/plain": [
       "'A'"
      ]
     },
     "execution_count": 112,
     "metadata": {},
     "output_type": "execute_result"
    }
   ],
   "source": [
    "id2token[106]"
   ]
  },
  {
   "cell_type": "code",
   "execution_count": 113,
   "metadata": {},
   "outputs": [],
   "source": [
    "UNK_IDX = 1\n",
    "def token2index_dataset(tokens_data):\n",
    "    indices_data = []\n",
    "    for tokens in tokens_data:\n",
    "        sublist = []\n",
    "        for i in range(2):\n",
    "            index_list = [token2id[token] if token in token2id else UNK_IDX for token in tokens[i]]\n",
    "            sublist.append(index_list)\n",
    "        indices_data.append(sublist)\n",
    "    return indices_data\n",
    "\n",
    "train_data_indices = token2index_dataset(train_data_tokens)\n",
    "val_data_indices = token2index_dataset(val_data_tokens)"
   ]
  },
  {
   "cell_type": "code",
   "execution_count": 114,
   "metadata": {},
   "outputs": [
    {
     "name": "stdout",
     "output_type": "stream",
     "text": [
      "Train dataset size is 100000\n",
      "Val dataset size is 1000\n"
     ]
    }
   ],
   "source": [
    "print (\"Train dataset size is {}\".format(len(train_data_indices)))\n",
    "print (\"Val dataset size is {}\".format(len(val_data_indices)))"
   ]
  },
  {
   "cell_type": "code",
   "execution_count": 115,
   "metadata": {},
   "outputs": [
    {
     "data": {
      "text/plain": [
       "[[106,\n",
       "  802,\n",
       "  1830,\n",
       "  8,\n",
       "  9,\n",
       "  6265,\n",
       "  7167,\n",
       "  4388,\n",
       "  17,\n",
       "  9,\n",
       "  12229,\n",
       "  5335,\n",
       "  9,\n",
       "  563,\n",
       "  6,\n",
       "  358,\n",
       "  4],\n",
       " [106, 802, 1830, 2255, 3, 13985, 94, 3, 358, 4]]"
      ]
     },
     "execution_count": 115,
     "metadata": {},
     "output_type": "execute_result"
    }
   ],
   "source": [
    "train_data_indices[0]"
   ]
  },
  {
   "cell_type": "markdown",
   "metadata": {},
   "source": [
    "## Pytorch DataLoader"
   ]
  },
  {
   "cell_type": "code",
   "execution_count": 116,
   "metadata": {},
   "outputs": [],
   "source": [
    "MAX_SENTENCE_LENGTH = 25\n",
    "class SNLIDataset(Dataset):\n",
    "    def __init__(self, data_list, target_list):\n",
    "        self.data_list = data_list\n",
    "        self.target_list = target_list\n",
    "        assert (len(self.data_list) == len(self.target_list))\n",
    "\n",
    "    def __len__(self):\n",
    "        return len(self.data_list)\n",
    "        \n",
    "    def __getitem__(self, key):\n",
    "        \"\"\"\n",
    "        Triggered when you call dataset[i]\n",
    "        \"\"\"\n",
    "        \n",
    "        token_idx_1 = self.data_list[key][0][:MAX_SENTENCE_LENGTH]\n",
    "        token_idx_2 = self.data_list[key][1][:MAX_SENTENCE_LENGTH]\n",
    "        token_idx = [token_idx_1, token_idx_2]\n",
    "        label = self.target_list[key]\n",
    "        return [token_idx, [len(token_idx_1), len(token_idx_2)], label]\n",
    "\n",
    "def SNLI_collate_func(batch):\n",
    "    \"\"\"\n",
    "    Customized function for DataLoader that dynamically pads the batch so that all \n",
    "    data have the same length\n",
    "    \"\"\"\n",
    "    data_list = []\n",
    "    label_list = []\n",
    "    length_list = []\n",
    "\n",
    "    for datum in batch:\n",
    "        label_list.append(datum[2])\n",
    "        length_list.append(datum[1])\n",
    "    # padding\n",
    "    for datum in batch:\n",
    "        padded_vec_1 = np.pad(np.array(datum[0][0]), \n",
    "                                pad_width=((0,MAX_SENTENCE_LENGTH-datum[1][0])), \n",
    "                                mode=\"constant\", constant_values=0)\n",
    "        padded_vec_2 = np.pad(np.array(datum[0][1]), \n",
    "                                pad_width=((0,MAX_SENTENCE_LENGTH-datum[1][1])), \n",
    "                                mode=\"constant\", constant_values=0)\n",
    "#         sublist = ' '.join(padded_vec_2)\n",
    "#         data_list.append(padded_vec_1)\n",
    "#         data_list.append(padded_vec_2)\n",
    "        data_list.append(list(padded_vec_1) + list(padded_vec_2))\n",
    "    return [torch.from_numpy(np.array(data_list)), torch.LongTensor(length_list), torch.LongTensor(label_list)]"
   ]
  },
  {
   "cell_type": "code",
   "execution_count": null,
   "metadata": {},
   "outputs": [],
   "source": []
  },
  {
   "cell_type": "code",
   "execution_count": 117,
   "metadata": {},
   "outputs": [],
   "source": [
    "BATCH_SIZE = 40\n",
    "train_dataset = SNLIDataset(train_data_indices, train_targets)\n",
    "train_loader = torch.utils.data.DataLoader(dataset=train_dataset, \n",
    "                                           batch_size=BATCH_SIZE,\n",
    "                                           collate_fn=SNLI_collate_func,\n",
    "                                           shuffle=True)\n",
    "\n",
    "val_dataset = SNLIDataset(val_data_indices, val_targets)\n",
    "val_loader = torch.utils.data.DataLoader(dataset=val_dataset, \n",
    "                                           batch_size=BATCH_SIZE,\n",
    "                                           collate_fn=SNLI_collate_func,\n",
    "                                           shuffle=True)"
   ]
  },
  {
   "cell_type": "code",
   "execution_count": 118,
   "metadata": {},
   "outputs": [
    {
     "name": "stdout",
     "output_type": "stream",
     "text": [
      "40\n",
      "tensor([[17, 14],\n",
      "        [ 6, 10],\n",
      "        [14, 11],\n",
      "        [16,  5],\n",
      "        [ 9,  8],\n",
      "        [10, 10],\n",
      "        [20, 11],\n",
      "        [13, 11],\n",
      "        [10, 10],\n",
      "        [ 9,  6],\n",
      "        [10,  7],\n",
      "        [25,  9],\n",
      "        [ 8,  7],\n",
      "        [ 8,  8],\n",
      "        [15, 10],\n",
      "        [13, 10],\n",
      "        [25,  4],\n",
      "        [11, 13],\n",
      "        [ 9,  5],\n",
      "        [12,  8],\n",
      "        [11, 13],\n",
      "        [14,  5],\n",
      "        [ 7,  7],\n",
      "        [10,  6],\n",
      "        [11, 10],\n",
      "        [22,  8],\n",
      "        [17, 15],\n",
      "        [19,  9],\n",
      "        [12,  6],\n",
      "        [11, 12],\n",
      "        [12, 11],\n",
      "        [11,  5],\n",
      "        [12,  7],\n",
      "        [19, 11],\n",
      "        [ 9,  5],\n",
      "        [ 9,  9],\n",
      "        [13, 10],\n",
      "        [ 9,  4],\n",
      "        [10,  6],\n",
      "        [20,  6]])\n",
      "tensor([  106,   347,     8,     9,  7810,  7167,     5,   884, 11907,    15,\n",
      "           48,     7,  4398,     9,  2418,  2328,     4,     0,     0,     0,\n",
      "            0,     0,     0,     0,     0,   106,   347,    15,     8,     3,\n",
      "          872,   978,  6824,     9,  2328,    17,     3,  2414,     4,     0,\n",
      "            0,     0,     0,     0,     0,     0,     0,     0,     0,     0])\n"
     ]
    }
   ],
   "source": [
    "for i, (data, lengths, labels) in enumerate(train_loader):\n",
    "    print (len(data))\n",
    "    print (lengths)\n",
    "    break\n",
    "print (data[0])"
   ]
  },
  {
   "cell_type": "code",
   "execution_count": null,
   "metadata": {
    "scrolled": false
   },
   "outputs": [],
   "source": []
  },
  {
   "cell_type": "code",
   "execution_count": 119,
   "metadata": {},
   "outputs": [],
   "source": [
    "weight = torch.FloatTensor(embed)\n",
    "\n",
    "class CNN(nn.Module):\n",
    "    def __init__(self, emb_size, hidden_size, num_layers, num_classes, vocab_size):\n",
    "\n",
    "        super(CNN, self).__init__()\n",
    "\n",
    "        self.num_layers, self.hidden_size = num_layers, hidden_size\n",
    "#         self.embedding = nn.Embedding(vocab_size, emb_size, padding_idx=PAD_IDX)\n",
    "        self.embedding = nn.Embedding.from_pretrained(weight)\n",
    "    \n",
    "        self.conv1 = nn.Conv1d(emb_size, hidden_size, kernel_size=3, padding=1)\n",
    "        self.conv2 = nn.Conv1d(hidden_size, hidden_size, kernel_size=3, padding=1)\n",
    "        \n",
    "        self.conv3 = nn.Conv1d(emb_size, hidden_size, kernel_size=3, padding=1)\n",
    "        self.conv4 = nn.Conv1d(hidden_size, hidden_size, kernel_size=3, padding=1)\n",
    "        \n",
    "        self.maxpool = nn.MaxPool1d(kernel_size=MAX_SENTENCE_LENGTH)\n",
    "        \n",
    "        self.linear1 = nn.Linear(hidden_size*2, 128)\n",
    "        self.dropout = nn.Dropout(p=0.25)\n",
    "        self.activation = nn.ReLU()\n",
    "        self.linear2 = nn.Linear(128, num_classes)\n",
    "\n",
    "    def forward(self, x, lengths):\n",
    "        batch_size, seq_len = x.size()\n",
    "\n",
    "        embed = self.embedding(x)\n",
    "        embed_1 = embed[:, :MAX_SENTENCE_LENGTH, :]\n",
    "        embed_2 = embed[:, MAX_SENTENCE_LENGTH:, :]\n",
    "\n",
    "        hidden_1 = self.conv1(embed_1.transpose(1,2)).transpose(1, 2)\n",
    "        hidden_1 = F.relu(hidden_1.contiguous().view(-1, hidden_1.size(-1))).view(batch_size, MAX_SENTENCE_LENGTH, hidden_1.size(-1))\n",
    "        \n",
    "#         print(hidden_1.size())\n",
    "        hidden_1 = self.conv2(hidden_1.transpose(1,2)).transpose(1,2)\n",
    "        hidden_1 = F.relu(hidden_1.contiguous().view(-1, hidden_1.size(-1))).view(batch_size, MAX_SENTENCE_LENGTH, hidden_1.size(-1))\n",
    "        \n",
    "        hidden_2 = self.conv3(embed_2.transpose(1,2)).transpose(1, 2)\n",
    "        hidden_2 = F.relu(hidden_2.contiguous().view(-1, hidden_2.size(-1))).view(batch_size, MAX_SENTENCE_LENGTH, hidden_2.size(-1))\n",
    "\n",
    "        hidden_2 = self.conv4(hidden_2.transpose(1,2)).transpose(1,2)\n",
    "        hidden_2 = F.relu(hidden_2.contiguous().view(-1, hidden_2.size(-1))).view(batch_size, MAX_SENTENCE_LENGTH, hidden_2.size(-1))\n",
    "\n",
    "        # max pool\n",
    "        hidden_1 = self.maxpool(hidden_1.transpose(1, 2)).transpose(1, 2)\n",
    "        hidden_1 = torch.squeeze(hidden_1, dim=1)\n",
    "        hidden_2 = self.maxpool(hidden_2.transpose(1, 2)).transpose(1, 2)\n",
    "        hidden_2 = torch.squeeze(hidden_2, dim=1)\n",
    "        \n",
    "        hidden = torch.cat((hidden_1, hidden_2), dim=1)\n",
    "#         print(hidden.size())\n",
    "        \n",
    "        hidden = self.linear1(hidden)\n",
    "        hidden = self.dropout(hidden)\n",
    "        hidden = self.activation(hidden)\n",
    "        logits = self.linear2(hidden)\n",
    "        return logits"
   ]
  },
  {
   "cell_type": "code",
   "execution_count": 120,
   "metadata": {},
   "outputs": [
    {
     "name": "stdout",
     "output_type": "stream",
     "text": [
      "Epoch: [1/10], Step: [101/2500], Validation Acc: 45.1\n",
      "Epoch: [1/10], Step: [201/2500], Validation Acc: 54.8\n",
      "Epoch: [1/10], Step: [301/2500], Validation Acc: 55.3\n",
      "Epoch: [1/10], Step: [401/2500], Validation Acc: 55.3\n",
      "Epoch: [1/10], Step: [501/2500], Validation Acc: 58.0\n",
      "Epoch: [1/10], Step: [601/2500], Validation Acc: 59.3\n",
      "Epoch: [1/10], Step: [701/2500], Validation Acc: 59.9\n",
      "Epoch: [1/10], Step: [801/2500], Validation Acc: 58.9\n",
      "Epoch: [1/10], Step: [901/2500], Validation Acc: 61.7\n",
      "Epoch: [1/10], Step: [1001/2500], Validation Acc: 60.1\n",
      "Epoch: [1/10], Step: [1101/2500], Validation Acc: 62.2\n",
      "Epoch: [1/10], Step: [1201/2500], Validation Acc: 62.1\n",
      "Epoch: [1/10], Step: [1301/2500], Validation Acc: 60.8\n",
      "Epoch: [1/10], Step: [1401/2500], Validation Acc: 61.9\n",
      "Epoch: [1/10], Step: [1501/2500], Validation Acc: 61.7\n",
      "Epoch: [1/10], Step: [1601/2500], Validation Acc: 64.9\n",
      "Epoch: [1/10], Step: [1701/2500], Validation Acc: 63.1\n",
      "Epoch: [1/10], Step: [1801/2500], Validation Acc: 61.9\n",
      "Epoch: [1/10], Step: [1901/2500], Validation Acc: 64.2\n",
      "Epoch: [1/10], Step: [2001/2500], Validation Acc: 64.4\n",
      "Epoch: [1/10], Step: [2101/2500], Validation Acc: 64.8\n",
      "Epoch: [1/10], Step: [2201/2500], Validation Acc: 64.0\n",
      "Epoch: [1/10], Step: [2301/2500], Validation Acc: 65.6\n",
      "Epoch: [1/10], Step: [2401/2500], Validation Acc: 63.0\n",
      "Epoch: [2/10], Step: [101/2500], Validation Acc: 65.6\n",
      "Epoch: [2/10], Step: [201/2500], Validation Acc: 65.7\n",
      "Epoch: [2/10], Step: [301/2500], Validation Acc: 66.1\n",
      "Epoch: [2/10], Step: [401/2500], Validation Acc: 66.7\n",
      "Epoch: [2/10], Step: [501/2500], Validation Acc: 66.2\n",
      "Epoch: [2/10], Step: [601/2500], Validation Acc: 66.7\n",
      "Epoch: [2/10], Step: [701/2500], Validation Acc: 65.0\n",
      "Epoch: [2/10], Step: [801/2500], Validation Acc: 66.1\n",
      "Epoch: [2/10], Step: [901/2500], Validation Acc: 65.0\n",
      "Epoch: [2/10], Step: [1001/2500], Validation Acc: 65.9\n",
      "Epoch: [2/10], Step: [1101/2500], Validation Acc: 63.9\n",
      "Epoch: [2/10], Step: [1201/2500], Validation Acc: 66.7\n",
      "Epoch: [2/10], Step: [1301/2500], Validation Acc: 66.5\n",
      "Epoch: [2/10], Step: [1401/2500], Validation Acc: 65.0\n",
      "Epoch: [2/10], Step: [1501/2500], Validation Acc: 67.1\n",
      "Epoch: [2/10], Step: [1601/2500], Validation Acc: 67.6\n",
      "Epoch: [2/10], Step: [1701/2500], Validation Acc: 67.3\n",
      "Epoch: [2/10], Step: [1801/2500], Validation Acc: 67.2\n",
      "Epoch: [2/10], Step: [1901/2500], Validation Acc: 67.5\n",
      "Epoch: [2/10], Step: [2001/2500], Validation Acc: 65.9\n",
      "Epoch: [2/10], Step: [2101/2500], Validation Acc: 68.0\n",
      "Epoch: [2/10], Step: [2201/2500], Validation Acc: 68.7\n",
      "Epoch: [2/10], Step: [2301/2500], Validation Acc: 67.1\n",
      "Epoch: [2/10], Step: [2401/2500], Validation Acc: 67.9\n",
      "Epoch: [3/10], Step: [101/2500], Validation Acc: 67.0\n",
      "Epoch: [3/10], Step: [201/2500], Validation Acc: 68.1\n",
      "Epoch: [3/10], Step: [301/2500], Validation Acc: 67.1\n",
      "Epoch: [3/10], Step: [401/2500], Validation Acc: 67.1\n",
      "Epoch: [3/10], Step: [501/2500], Validation Acc: 65.8\n",
      "Epoch: [3/10], Step: [601/2500], Validation Acc: 67.2\n",
      "Epoch: [3/10], Step: [701/2500], Validation Acc: 67.1\n",
      "Epoch: [3/10], Step: [801/2500], Validation Acc: 65.6\n",
      "Epoch: [3/10], Step: [901/2500], Validation Acc: 66.9\n",
      "Epoch: [3/10], Step: [1001/2500], Validation Acc: 66.6\n",
      "Epoch: [3/10], Step: [1101/2500], Validation Acc: 66.5\n",
      "Epoch: [3/10], Step: [1201/2500], Validation Acc: 67.6\n",
      "Epoch: [3/10], Step: [1301/2500], Validation Acc: 67.2\n",
      "Epoch: [3/10], Step: [1401/2500], Validation Acc: 67.7\n",
      "Epoch: [3/10], Step: [1501/2500], Validation Acc: 66.6\n",
      "Epoch: [3/10], Step: [1601/2500], Validation Acc: 67.9\n",
      "Epoch: [3/10], Step: [1701/2500], Validation Acc: 67.4\n",
      "Epoch: [3/10], Step: [1801/2500], Validation Acc: 68.5\n",
      "Epoch: [3/10], Step: [1901/2500], Validation Acc: 69.5\n",
      "Epoch: [3/10], Step: [2001/2500], Validation Acc: 66.7\n",
      "Epoch: [3/10], Step: [2101/2500], Validation Acc: 66.5\n",
      "Epoch: [3/10], Step: [2201/2500], Validation Acc: 68.4\n",
      "Epoch: [3/10], Step: [2301/2500], Validation Acc: 66.9\n",
      "Epoch: [3/10], Step: [2401/2500], Validation Acc: 68.7\n",
      "Epoch: [4/10], Step: [101/2500], Validation Acc: 68.0\n",
      "Epoch: [4/10], Step: [201/2500], Validation Acc: 66.5\n",
      "Epoch: [4/10], Step: [301/2500], Validation Acc: 67.8\n",
      "Epoch: [4/10], Step: [401/2500], Validation Acc: 67.3\n",
      "Epoch: [4/10], Step: [501/2500], Validation Acc: 67.6\n",
      "Epoch: [4/10], Step: [601/2500], Validation Acc: 68.1\n",
      "Epoch: [4/10], Step: [701/2500], Validation Acc: 67.7\n",
      "Epoch: [4/10], Step: [801/2500], Validation Acc: 66.5\n",
      "Epoch: [4/10], Step: [901/2500], Validation Acc: 66.0\n",
      "Epoch: [4/10], Step: [1001/2500], Validation Acc: 67.3\n",
      "Epoch: [4/10], Step: [1101/2500], Validation Acc: 67.9\n",
      "Epoch: [4/10], Step: [1201/2500], Validation Acc: 68.0\n",
      "Epoch: [4/10], Step: [1301/2500], Validation Acc: 66.9\n",
      "Epoch: [4/10], Step: [1401/2500], Validation Acc: 67.3\n",
      "Epoch: [4/10], Step: [1501/2500], Validation Acc: 69.3\n",
      "Epoch: [4/10], Step: [1601/2500], Validation Acc: 67.5\n",
      "Epoch: [4/10], Step: [1701/2500], Validation Acc: 68.2\n",
      "Epoch: [4/10], Step: [1801/2500], Validation Acc: 65.8\n",
      "Epoch: [4/10], Step: [1901/2500], Validation Acc: 67.1\n",
      "Epoch: [4/10], Step: [2001/2500], Validation Acc: 67.8\n",
      "Epoch: [4/10], Step: [2101/2500], Validation Acc: 67.9\n",
      "Epoch: [4/10], Step: [2201/2500], Validation Acc: 68.5\n",
      "Epoch: [4/10], Step: [2301/2500], Validation Acc: 67.7\n",
      "Epoch: [4/10], Step: [2401/2500], Validation Acc: 68.3\n",
      "Epoch: [5/10], Step: [101/2500], Validation Acc: 68.2\n",
      "Epoch: [5/10], Step: [201/2500], Validation Acc: 66.6\n",
      "Epoch: [5/10], Step: [301/2500], Validation Acc: 67.9\n",
      "Epoch: [5/10], Step: [401/2500], Validation Acc: 66.8\n",
      "Epoch: [5/10], Step: [501/2500], Validation Acc: 66.9\n",
      "Epoch: [5/10], Step: [601/2500], Validation Acc: 66.5\n",
      "Epoch: [5/10], Step: [701/2500], Validation Acc: 64.9\n",
      "Epoch: [5/10], Step: [801/2500], Validation Acc: 67.5\n",
      "Epoch: [5/10], Step: [901/2500], Validation Acc: 66.6\n",
      "Epoch: [5/10], Step: [1001/2500], Validation Acc: 66.9\n",
      "Epoch: [5/10], Step: [1101/2500], Validation Acc: 67.6\n",
      "Epoch: [5/10], Step: [1201/2500], Validation Acc: 65.4\n",
      "Epoch: [5/10], Step: [1301/2500], Validation Acc: 66.2\n",
      "Epoch: [5/10], Step: [1401/2500], Validation Acc: 66.0\n",
      "Epoch: [5/10], Step: [1501/2500], Validation Acc: 67.4\n",
      "Epoch: [5/10], Step: [1601/2500], Validation Acc: 68.2\n",
      "Epoch: [5/10], Step: [1701/2500], Validation Acc: 65.7\n",
      "Epoch: [5/10], Step: [1801/2500], Validation Acc: 65.2\n",
      "Epoch: [5/10], Step: [1901/2500], Validation Acc: 68.1\n",
      "Epoch: [5/10], Step: [2001/2500], Validation Acc: 66.6\n",
      "Epoch: [5/10], Step: [2101/2500], Validation Acc: 67.3\n",
      "Epoch: [5/10], Step: [2201/2500], Validation Acc: 67.4\n",
      "Epoch: [5/10], Step: [2301/2500], Validation Acc: 66.9\n",
      "Epoch: [5/10], Step: [2401/2500], Validation Acc: 65.2\n",
      "Epoch: [6/10], Step: [101/2500], Validation Acc: 65.9\n",
      "Epoch: [6/10], Step: [201/2500], Validation Acc: 66.8\n",
      "Epoch: [6/10], Step: [301/2500], Validation Acc: 66.9\n",
      "Epoch: [6/10], Step: [401/2500], Validation Acc: 66.3\n",
      "Epoch: [6/10], Step: [501/2500], Validation Acc: 67.2\n",
      "Epoch: [6/10], Step: [601/2500], Validation Acc: 65.5\n",
      "Epoch: [6/10], Step: [701/2500], Validation Acc: 66.5\n",
      "Epoch: [6/10], Step: [801/2500], Validation Acc: 65.7\n",
      "Epoch: [6/10], Step: [901/2500], Validation Acc: 66.5\n",
      "Epoch: [6/10], Step: [1001/2500], Validation Acc: 66.2\n",
      "Epoch: [6/10], Step: [1101/2500], Validation Acc: 67.5\n",
      "Epoch: [6/10], Step: [1201/2500], Validation Acc: 66.8\n",
      "Epoch: [6/10], Step: [1301/2500], Validation Acc: 66.2\n",
      "Epoch: [6/10], Step: [1401/2500], Validation Acc: 67.5\n",
      "Epoch: [6/10], Step: [1501/2500], Validation Acc: 68.3\n",
      "Epoch: [6/10], Step: [1601/2500], Validation Acc: 65.5\n",
      "Epoch: [6/10], Step: [1701/2500], Validation Acc: 66.9\n",
      "Epoch: [6/10], Step: [1801/2500], Validation Acc: 66.7\n",
      "Epoch: [6/10], Step: [1901/2500], Validation Acc: 65.9\n",
      "Epoch: [6/10], Step: [2001/2500], Validation Acc: 67.0\n",
      "Epoch: [6/10], Step: [2101/2500], Validation Acc: 65.8\n",
      "Epoch: [6/10], Step: [2201/2500], Validation Acc: 66.3\n",
      "Epoch: [6/10], Step: [2301/2500], Validation Acc: 67.4\n",
      "Epoch: [6/10], Step: [2401/2500], Validation Acc: 65.8\n",
      "Epoch: [7/10], Step: [101/2500], Validation Acc: 67.9\n",
      "Epoch: [7/10], Step: [201/2500], Validation Acc: 65.4\n",
      "Epoch: [7/10], Step: [301/2500], Validation Acc: 66.6\n",
      "Epoch: [7/10], Step: [401/2500], Validation Acc: 65.4\n",
      "Epoch: [7/10], Step: [501/2500], Validation Acc: 64.3\n",
      "Epoch: [7/10], Step: [601/2500], Validation Acc: 66.3\n",
      "Epoch: [7/10], Step: [701/2500], Validation Acc: 65.8\n"
     ]
    },
    {
     "name": "stdout",
     "output_type": "stream",
     "text": [
      "Epoch: [7/10], Step: [801/2500], Validation Acc: 65.9\n",
      "Epoch: [7/10], Step: [901/2500], Validation Acc: 65.9\n",
      "Epoch: [7/10], Step: [1001/2500], Validation Acc: 65.5\n",
      "Epoch: [7/10], Step: [1101/2500], Validation Acc: 64.5\n",
      "Epoch: [7/10], Step: [1201/2500], Validation Acc: 65.8\n",
      "Epoch: [7/10], Step: [1301/2500], Validation Acc: 65.2\n",
      "Epoch: [7/10], Step: [1401/2500], Validation Acc: 65.3\n",
      "Epoch: [7/10], Step: [1501/2500], Validation Acc: 66.4\n",
      "Epoch: [7/10], Step: [1601/2500], Validation Acc: 65.5\n",
      "Epoch: [7/10], Step: [1701/2500], Validation Acc: 64.4\n",
      "Epoch: [7/10], Step: [1801/2500], Validation Acc: 66.3\n",
      "Epoch: [7/10], Step: [1901/2500], Validation Acc: 66.0\n",
      "Epoch: [7/10], Step: [2001/2500], Validation Acc: 66.1\n",
      "Epoch: [7/10], Step: [2101/2500], Validation Acc: 66.0\n",
      "Epoch: [7/10], Step: [2201/2500], Validation Acc: 67.9\n",
      "Epoch: [7/10], Step: [2301/2500], Validation Acc: 67.4\n",
      "Epoch: [7/10], Step: [2401/2500], Validation Acc: 65.4\n",
      "Epoch: [8/10], Step: [101/2500], Validation Acc: 67.6\n",
      "Epoch: [8/10], Step: [201/2500], Validation Acc: 66.4\n",
      "Epoch: [8/10], Step: [301/2500], Validation Acc: 65.8\n",
      "Epoch: [8/10], Step: [401/2500], Validation Acc: 65.7\n",
      "Epoch: [8/10], Step: [501/2500], Validation Acc: 66.9\n",
      "Epoch: [8/10], Step: [601/2500], Validation Acc: 66.9\n",
      "Epoch: [8/10], Step: [701/2500], Validation Acc: 65.6\n",
      "Epoch: [8/10], Step: [801/2500], Validation Acc: 67.0\n",
      "Epoch: [8/10], Step: [901/2500], Validation Acc: 66.5\n",
      "Epoch: [8/10], Step: [1001/2500], Validation Acc: 66.1\n",
      "Epoch: [8/10], Step: [1101/2500], Validation Acc: 65.4\n",
      "Epoch: [8/10], Step: [1201/2500], Validation Acc: 65.8\n",
      "Epoch: [8/10], Step: [1301/2500], Validation Acc: 65.9\n",
      "Epoch: [8/10], Step: [1401/2500], Validation Acc: 64.1\n",
      "Epoch: [8/10], Step: [1501/2500], Validation Acc: 65.2\n",
      "Epoch: [8/10], Step: [1601/2500], Validation Acc: 65.3\n",
      "Epoch: [8/10], Step: [1701/2500], Validation Acc: 67.6\n",
      "Epoch: [8/10], Step: [1801/2500], Validation Acc: 66.9\n",
      "Epoch: [8/10], Step: [1901/2500], Validation Acc: 67.3\n",
      "Epoch: [8/10], Step: [2001/2500], Validation Acc: 67.6\n",
      "Epoch: [8/10], Step: [2101/2500], Validation Acc: 67.6\n",
      "Epoch: [8/10], Step: [2201/2500], Validation Acc: 65.7\n",
      "Epoch: [8/10], Step: [2301/2500], Validation Acc: 64.9\n",
      "Epoch: [8/10], Step: [2401/2500], Validation Acc: 66.0\n"
     ]
    },
    {
     "ename": "KeyboardInterrupt",
     "evalue": "",
     "output_type": "error",
     "traceback": [
      "\u001b[0;31m---------------------------------------------------------------------------\u001b[0m",
      "\u001b[0;31mKeyboardInterrupt\u001b[0m                         Traceback (most recent call last)",
      "\u001b[0;32m<ipython-input-120-b634906f8608>\u001b[0m in \u001b[0;36m<module>\u001b[0;34m()\u001b[0m\n\u001b[1;32m     36\u001b[0m         \u001b[0moptimizer\u001b[0m\u001b[0;34m.\u001b[0m\u001b[0mzero_grad\u001b[0m\u001b[0;34m(\u001b[0m\u001b[0;34m)\u001b[0m\u001b[0;34m\u001b[0m\u001b[0m\n\u001b[1;32m     37\u001b[0m         \u001b[0;31m# Forward pass\u001b[0m\u001b[0;34m\u001b[0m\u001b[0;34m\u001b[0m\u001b[0m\n\u001b[0;32m---> 38\u001b[0;31m         \u001b[0moutputs\u001b[0m \u001b[0;34m=\u001b[0m \u001b[0mmodel\u001b[0m\u001b[0;34m(\u001b[0m\u001b[0mdata\u001b[0m\u001b[0;34m,\u001b[0m \u001b[0mlengths\u001b[0m\u001b[0;34m)\u001b[0m\u001b[0;34m\u001b[0m\u001b[0m\n\u001b[0m\u001b[1;32m     39\u001b[0m         \u001b[0mloss\u001b[0m \u001b[0;34m=\u001b[0m \u001b[0mcriterion\u001b[0m\u001b[0;34m(\u001b[0m\u001b[0moutputs\u001b[0m\u001b[0;34m,\u001b[0m \u001b[0mlabels\u001b[0m\u001b[0;34m)\u001b[0m\u001b[0;34m\u001b[0m\u001b[0m\n\u001b[1;32m     40\u001b[0m         \u001b[0;32mif\u001b[0m \u001b[0mi\u001b[0m \u001b[0;34m%\u001b[0m \u001b[0;36m64\u001b[0m \u001b[0;34m==\u001b[0m \u001b[0;36m0\u001b[0m\u001b[0;34m:\u001b[0m\u001b[0;34m\u001b[0m\u001b[0m\n",
      "\u001b[0;32m~/anaconda3/lib/python3.6/site-packages/torch/nn/modules/module.py\u001b[0m in \u001b[0;36m__call__\u001b[0;34m(self, *input, **kwargs)\u001b[0m\n\u001b[1;32m    475\u001b[0m             \u001b[0mresult\u001b[0m \u001b[0;34m=\u001b[0m \u001b[0mself\u001b[0m\u001b[0;34m.\u001b[0m\u001b[0m_slow_forward\u001b[0m\u001b[0;34m(\u001b[0m\u001b[0;34m*\u001b[0m\u001b[0minput\u001b[0m\u001b[0;34m,\u001b[0m \u001b[0;34m**\u001b[0m\u001b[0mkwargs\u001b[0m\u001b[0;34m)\u001b[0m\u001b[0;34m\u001b[0m\u001b[0m\n\u001b[1;32m    476\u001b[0m         \u001b[0;32melse\u001b[0m\u001b[0;34m:\u001b[0m\u001b[0;34m\u001b[0m\u001b[0m\n\u001b[0;32m--> 477\u001b[0;31m             \u001b[0mresult\u001b[0m \u001b[0;34m=\u001b[0m \u001b[0mself\u001b[0m\u001b[0;34m.\u001b[0m\u001b[0mforward\u001b[0m\u001b[0;34m(\u001b[0m\u001b[0;34m*\u001b[0m\u001b[0minput\u001b[0m\u001b[0;34m,\u001b[0m \u001b[0;34m**\u001b[0m\u001b[0mkwargs\u001b[0m\u001b[0;34m)\u001b[0m\u001b[0;34m\u001b[0m\u001b[0m\n\u001b[0m\u001b[1;32m    478\u001b[0m         \u001b[0;32mfor\u001b[0m \u001b[0mhook\u001b[0m \u001b[0;32min\u001b[0m \u001b[0mself\u001b[0m\u001b[0;34m.\u001b[0m\u001b[0m_forward_hooks\u001b[0m\u001b[0;34m.\u001b[0m\u001b[0mvalues\u001b[0m\u001b[0;34m(\u001b[0m\u001b[0;34m)\u001b[0m\u001b[0;34m:\u001b[0m\u001b[0;34m\u001b[0m\u001b[0m\n\u001b[1;32m    479\u001b[0m             \u001b[0mhook_result\u001b[0m \u001b[0;34m=\u001b[0m \u001b[0mhook\u001b[0m\u001b[0;34m(\u001b[0m\u001b[0mself\u001b[0m\u001b[0;34m,\u001b[0m \u001b[0minput\u001b[0m\u001b[0;34m,\u001b[0m \u001b[0mresult\u001b[0m\u001b[0;34m)\u001b[0m\u001b[0;34m\u001b[0m\u001b[0m\n",
      "\u001b[0;32m<ipython-input-119-bf3b5ab94735>\u001b[0m in \u001b[0;36mforward\u001b[0;34m(self, x, lengths)\u001b[0m\n\u001b[1;32m     36\u001b[0m         \u001b[0mhidden_1\u001b[0m \u001b[0;34m=\u001b[0m \u001b[0mF\u001b[0m\u001b[0;34m.\u001b[0m\u001b[0mrelu\u001b[0m\u001b[0;34m(\u001b[0m\u001b[0mhidden_1\u001b[0m\u001b[0;34m.\u001b[0m\u001b[0mcontiguous\u001b[0m\u001b[0;34m(\u001b[0m\u001b[0;34m)\u001b[0m\u001b[0;34m.\u001b[0m\u001b[0mview\u001b[0m\u001b[0;34m(\u001b[0m\u001b[0;34m-\u001b[0m\u001b[0;36m1\u001b[0m\u001b[0;34m,\u001b[0m \u001b[0mhidden_1\u001b[0m\u001b[0;34m.\u001b[0m\u001b[0msize\u001b[0m\u001b[0;34m(\u001b[0m\u001b[0;34m-\u001b[0m\u001b[0;36m1\u001b[0m\u001b[0;34m)\u001b[0m\u001b[0;34m)\u001b[0m\u001b[0;34m)\u001b[0m\u001b[0;34m.\u001b[0m\u001b[0mview\u001b[0m\u001b[0;34m(\u001b[0m\u001b[0mbatch_size\u001b[0m\u001b[0;34m,\u001b[0m \u001b[0mMAX_SENTENCE_LENGTH\u001b[0m\u001b[0;34m,\u001b[0m \u001b[0mhidden_1\u001b[0m\u001b[0;34m.\u001b[0m\u001b[0msize\u001b[0m\u001b[0;34m(\u001b[0m\u001b[0;34m-\u001b[0m\u001b[0;36m1\u001b[0m\u001b[0;34m)\u001b[0m\u001b[0;34m)\u001b[0m\u001b[0;34m\u001b[0m\u001b[0m\n\u001b[1;32m     37\u001b[0m \u001b[0;34m\u001b[0m\u001b[0m\n\u001b[0;32m---> 38\u001b[0;31m         \u001b[0mhidden_2\u001b[0m \u001b[0;34m=\u001b[0m \u001b[0mself\u001b[0m\u001b[0;34m.\u001b[0m\u001b[0mconv3\u001b[0m\u001b[0;34m(\u001b[0m\u001b[0membed_2\u001b[0m\u001b[0;34m.\u001b[0m\u001b[0mtranspose\u001b[0m\u001b[0;34m(\u001b[0m\u001b[0;36m1\u001b[0m\u001b[0;34m,\u001b[0m\u001b[0;36m2\u001b[0m\u001b[0;34m)\u001b[0m\u001b[0;34m)\u001b[0m\u001b[0;34m.\u001b[0m\u001b[0mtranspose\u001b[0m\u001b[0;34m(\u001b[0m\u001b[0;36m1\u001b[0m\u001b[0;34m,\u001b[0m \u001b[0;36m2\u001b[0m\u001b[0;34m)\u001b[0m\u001b[0;34m\u001b[0m\u001b[0m\n\u001b[0m\u001b[1;32m     39\u001b[0m         \u001b[0mhidden_2\u001b[0m \u001b[0;34m=\u001b[0m \u001b[0mF\u001b[0m\u001b[0;34m.\u001b[0m\u001b[0mrelu\u001b[0m\u001b[0;34m(\u001b[0m\u001b[0mhidden_2\u001b[0m\u001b[0;34m.\u001b[0m\u001b[0mcontiguous\u001b[0m\u001b[0;34m(\u001b[0m\u001b[0;34m)\u001b[0m\u001b[0;34m.\u001b[0m\u001b[0mview\u001b[0m\u001b[0;34m(\u001b[0m\u001b[0;34m-\u001b[0m\u001b[0;36m1\u001b[0m\u001b[0;34m,\u001b[0m \u001b[0mhidden_2\u001b[0m\u001b[0;34m.\u001b[0m\u001b[0msize\u001b[0m\u001b[0;34m(\u001b[0m\u001b[0;34m-\u001b[0m\u001b[0;36m1\u001b[0m\u001b[0;34m)\u001b[0m\u001b[0;34m)\u001b[0m\u001b[0;34m)\u001b[0m\u001b[0;34m.\u001b[0m\u001b[0mview\u001b[0m\u001b[0;34m(\u001b[0m\u001b[0mbatch_size\u001b[0m\u001b[0;34m,\u001b[0m \u001b[0mMAX_SENTENCE_LENGTH\u001b[0m\u001b[0;34m,\u001b[0m \u001b[0mhidden_2\u001b[0m\u001b[0;34m.\u001b[0m\u001b[0msize\u001b[0m\u001b[0;34m(\u001b[0m\u001b[0;34m-\u001b[0m\u001b[0;36m1\u001b[0m\u001b[0;34m)\u001b[0m\u001b[0;34m)\u001b[0m\u001b[0;34m\u001b[0m\u001b[0m\n\u001b[1;32m     40\u001b[0m \u001b[0;34m\u001b[0m\u001b[0m\n",
      "\u001b[0;32m~/anaconda3/lib/python3.6/site-packages/torch/nn/modules/module.py\u001b[0m in \u001b[0;36m__call__\u001b[0;34m(self, *input, **kwargs)\u001b[0m\n\u001b[1;32m    475\u001b[0m             \u001b[0mresult\u001b[0m \u001b[0;34m=\u001b[0m \u001b[0mself\u001b[0m\u001b[0;34m.\u001b[0m\u001b[0m_slow_forward\u001b[0m\u001b[0;34m(\u001b[0m\u001b[0;34m*\u001b[0m\u001b[0minput\u001b[0m\u001b[0;34m,\u001b[0m \u001b[0;34m**\u001b[0m\u001b[0mkwargs\u001b[0m\u001b[0;34m)\u001b[0m\u001b[0;34m\u001b[0m\u001b[0m\n\u001b[1;32m    476\u001b[0m         \u001b[0;32melse\u001b[0m\u001b[0;34m:\u001b[0m\u001b[0;34m\u001b[0m\u001b[0m\n\u001b[0;32m--> 477\u001b[0;31m             \u001b[0mresult\u001b[0m \u001b[0;34m=\u001b[0m \u001b[0mself\u001b[0m\u001b[0;34m.\u001b[0m\u001b[0mforward\u001b[0m\u001b[0;34m(\u001b[0m\u001b[0;34m*\u001b[0m\u001b[0minput\u001b[0m\u001b[0;34m,\u001b[0m \u001b[0;34m**\u001b[0m\u001b[0mkwargs\u001b[0m\u001b[0;34m)\u001b[0m\u001b[0;34m\u001b[0m\u001b[0m\n\u001b[0m\u001b[1;32m    478\u001b[0m         \u001b[0;32mfor\u001b[0m \u001b[0mhook\u001b[0m \u001b[0;32min\u001b[0m \u001b[0mself\u001b[0m\u001b[0;34m.\u001b[0m\u001b[0m_forward_hooks\u001b[0m\u001b[0;34m.\u001b[0m\u001b[0mvalues\u001b[0m\u001b[0;34m(\u001b[0m\u001b[0;34m)\u001b[0m\u001b[0;34m:\u001b[0m\u001b[0;34m\u001b[0m\u001b[0m\n\u001b[1;32m    479\u001b[0m             \u001b[0mhook_result\u001b[0m \u001b[0;34m=\u001b[0m \u001b[0mhook\u001b[0m\u001b[0;34m(\u001b[0m\u001b[0mself\u001b[0m\u001b[0;34m,\u001b[0m \u001b[0minput\u001b[0m\u001b[0;34m,\u001b[0m \u001b[0mresult\u001b[0m\u001b[0;34m)\u001b[0m\u001b[0;34m\u001b[0m\u001b[0m\n",
      "\u001b[0;32m~/anaconda3/lib/python3.6/site-packages/torch/nn/modules/conv.py\u001b[0m in \u001b[0;36mforward\u001b[0;34m(self, input)\u001b[0m\n\u001b[1;32m    174\u001b[0m     \u001b[0;32mdef\u001b[0m \u001b[0mforward\u001b[0m\u001b[0;34m(\u001b[0m\u001b[0mself\u001b[0m\u001b[0;34m,\u001b[0m \u001b[0minput\u001b[0m\u001b[0;34m)\u001b[0m\u001b[0;34m:\u001b[0m\u001b[0;34m\u001b[0m\u001b[0m\n\u001b[1;32m    175\u001b[0m         return F.conv1d(input, self.weight, self.bias, self.stride,\n\u001b[0;32m--> 176\u001b[0;31m                         self.padding, self.dilation, self.groups)\n\u001b[0m\u001b[1;32m    177\u001b[0m \u001b[0;34m\u001b[0m\u001b[0m\n\u001b[1;32m    178\u001b[0m \u001b[0;34m\u001b[0m\u001b[0m\n",
      "\u001b[0;31mKeyboardInterrupt\u001b[0m: "
     ]
    }
   ],
   "source": [
    "def test_model(loader, model):\n",
    "    \"\"\"\n",
    "    Help function that tests the model's performance on a dataset\n",
    "    @param: loader - data loader for the dataset to test against\n",
    "    \"\"\"\n",
    "    correct = 0\n",
    "    total = 0\n",
    "    model.eval()\n",
    "    for data, lengths, labels in loader:\n",
    "        data_batch, lengths_batch, label_batch = data, lengths, labels\n",
    "        outputs = F.softmax(model(data_batch, lengths_batch), dim=1)\n",
    "        predicted = outputs.max(1, keepdim=True)[1]\n",
    "\n",
    "        total += labels.size(0)\n",
    "        correct += predicted.eq(labels.view_as(predicted)).sum().item()\n",
    "    return (100 * correct / total)\n",
    "\n",
    "\n",
    "model = CNN(emb_size=300, hidden_size=500, num_layers=2, num_classes=3, vocab_size=len(id2token)) # num_layers\n",
    "\n",
    "learning_rate = 0.001\n",
    "num_epochs = 10 # number epoch to train\n",
    "\n",
    "# Criterion and Optimizer\n",
    "criterion = torch.nn.CrossEntropyLoss()\n",
    "optimizer = torch.optim.Adam(model.parameters(), lr=learning_rate)\n",
    "\n",
    "# Train the model\n",
    "total_step = len(train_loader)\n",
    "\n",
    "loss_l = []\n",
    "acc_l = []\n",
    "for epoch in range(num_epochs):\n",
    "    for i, (data, lengths, labels) in enumerate(train_loader):\n",
    "        model.train()\n",
    "        optimizer.zero_grad()\n",
    "        # Forward pass\n",
    "        outputs = model(data, lengths)\n",
    "        loss = criterion(outputs, labels)\n",
    "        if i % 64 == 0:\n",
    "            loss_l.append(loss.item())\n",
    "\n",
    "        # Backward and optimize\n",
    "        loss.backward()\n",
    "        optimizer.step()\n",
    "        # validate every 100 iterations\n",
    "        if i > 0 and i % 100 == 0:\n",
    "            # validate\n",
    "            val_acc = test_model(val_loader, model)\n",
    "            print('Epoch: [{}/{}], Step: [{}/{}], Validation Acc: {}'.format(\n",
    "                       epoch+1, num_epochs, i+1, len(train_loader), val_acc))\n",
    "            acc_l.append(val_acc)"
   ]
  },
  {
   "cell_type": "code",
   "execution_count": 123,
   "metadata": {},
   "outputs": [
    {
     "data": {
      "image/png": "[encoded data removed]",
      "text/plain": [
       "<Figure size 432x288 with 1 Axes>"
      ]
     },
     "metadata": {},
     "output_type": "display_data"
    },
    {
     "data": {
      "image/png": "[encoded data removed]",
      "text/plain": [
       "<Figure size 432x288 with 1 Axes>"
      ]
     },
     "metadata": {},
     "output_type": "display_data"
    }
   ],
   "source": [
    "plt.plot(loss_l)\n",
    "plt.show()\n",
    "plt.plot(acc_l)\n",
    "plt.show()"
   ]
  },
  {
   "cell_type": "code",
   "execution_count": null,
   "metadata": {},
   "outputs": [],
   "source": []
  }
 ],
 "metadata": {
  "anaconda-cloud": {},
  "kernelspec": {
   "display_name": "Python 3",
   "language": "python",
   "name": "python3"
  },
  "language_info": {
   "codemirror_mode": {
    "name": "ipython",
    "version": 3
   },
   "file_extension": ".py",
   "mimetype": "text/x-python",
   "name": "python",
   "nbconvert_exporter": "python",
   "pygments_lexer": "ipython3",
   "version": "3.6.3"
  }
 },
 "nbformat": 4,
 "nbformat_minor": 2
}
